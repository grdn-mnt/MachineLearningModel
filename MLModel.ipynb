# Importing libraries
import numpy as np
import tensorflow as tf
from tensorflow.keras.models import Sequential
from tensorflow.keras.layers import Dense


# Define a simple formula: inches to centimeters (1 inch = 2.54 cm)
def inches_to_cm(inches):
    return inches * 2.54


# Generate dataset
inches = np.linspace(0, 100, 500)  # 500 points from 0 to 100 inches
cm = inches_to_cm(inches)


# Build a simple 1-neuron neural network
model = Sequential([
    Dense(1, input_shape=[1])  # 1 input neuron, 1 output neuron
])


# Compile the model
model.compile(optimizer='adam', loss='mean_squared_error')


# Train the model
history = model.fit(inches, cm, epochs=500, verbose=0)


# Test the model
test_inches = np.array([1, 5, 10, 50, 100])
predicted_cm = model.predict(test_inches)


# Output predicted values vs actual values
print("Predicted values: ", predicted_cm.flatten())
print("Actual values: ", inches_to_cm(test_inches))
