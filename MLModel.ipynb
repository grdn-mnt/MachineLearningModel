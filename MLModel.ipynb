{
  "nbformat": 4,
  "nbformat_minor": 0,
  "metadata": {
    "colab": {
      "provenance": [],
      "authorship_tag": "ABX9TyMjtbcECbNGJRX54Hx0EmpC",
      "include_colab_link": true
    },
    "kernelspec": {
      "name": "python3",
      "display_name": "Python 3"
    },
    "language_info": {
      "name": "python"
    }
  },
  "cells": [
    {
      "cell_type": "markdown",
      "metadata": {
        "id": "view-in-github",
        "colab_type": "text"
      },
      "source": [
        "<a href=\"https://colab.research.google.com/github/grdn-mnt/MachineLearningModel/blob/main/MLModel.ipynb\" target=\"_parent\"><img src=\"https://colab.research.google.com/assets/colab-badge.svg\" alt=\"Open In Colab\"/></a>"
      ]
    },
    {
      "cell_type": "code",
      "source": [
        "# Importing libraries\n",
        "import numpy as np\n",
        "import tensorflow as tf\n",
        "from tensorflow.keras.models import Sequential\n",
        "from tensorflow.keras.layers import Dense"
      ],
      "metadata": {
        "id": "wK_NxoJjmHll"
      },
      "execution_count": 1,
      "outputs": []
    },
    {
      "cell_type": "code",
      "source": [
        "# Define a simple formula: inches to centimeters (1 inch = 2.54 cm)\n",
        "def inches_to_cm(inches):\n",
        "    return inches * 2.54"
      ],
      "metadata": {
        "id": "-7bqgaMZll8K"
      },
      "execution_count": 2,
      "outputs": []
    },
    {
      "cell_type": "code",
      "source": [
        "# Generate dataset\n",
        "inches = np.linspace(0, 100, 500)  # 500 points from 0 to 100 inches\n",
        "cm = inches_to_cm(inches)"
      ],
      "metadata": {
        "id": "F6Mii2QXlpe9"
      },
      "execution_count": 3,
      "outputs": []
    },
    {
      "cell_type": "code",
      "source": [
        "# Build a simple 1-neuron neural network\n",
        "model = Sequential([\n",
        "    Dense(1, input_shape=[1])  # 1 input neuron, 1 output neuron\n",
        "])"
      ],
      "metadata": {
        "colab": {
          "base_uri": "https://localhost:8080/"
        },
        "id": "9EZ1rutolu7l",
        "outputId": "4a50f7e3-378e-4e72-e507-6d17530b888b"
      },
      "execution_count": 4,
      "outputs": [
        {
          "output_type": "stream",
          "name": "stderr",
          "text": [
            "/usr/local/lib/python3.10/dist-packages/keras/src/layers/core/dense.py:87: UserWarning: Do not pass an `input_shape`/`input_dim` argument to a layer. When using Sequential models, prefer using an `Input(shape)` object as the first layer in the model instead.\n",
            "  super().__init__(activity_regularizer=activity_regularizer, **kwargs)\n"
          ]
        }
      ]
    },
    {
      "cell_type": "code",
      "source": [
        "# Compile the model\n",
        "model.compile(optimizer='adam', loss='mean_squared_error')"
      ],
      "metadata": {
        "id": "kqbLO_oPlykL"
      },
      "execution_count": 5,
      "outputs": []
    },
    {
      "cell_type": "code",
      "source": [
        "# Train the model\n",
        "history = model.fit(inches, cm, epochs=500, verbose=0)"
      ],
      "metadata": {
        "id": "5SiX13mGl4VI"
      },
      "execution_count": 6,
      "outputs": []
    },
    {
      "cell_type": "code",
      "source": [
        "# Test the model\n",
        "test_inches = np.array([1, 5, 10, 50, 100])\n",
        "predicted_cm = model.predict(test_inches)"
      ],
      "metadata": {
        "colab": {
          "base_uri": "https://localhost:8080/"
        },
        "id": "5rC7LX78mqIU",
        "outputId": "0f0b5b2c-f6ab-4c73-f747-490e44cfe2ab"
      },
      "execution_count": 8,
      "outputs": [
        {
          "output_type": "stream",
          "name": "stdout",
          "text": [
            "\u001b[1m1/1\u001b[0m \u001b[32m━━━━━━━━━━━━━━━━━━━━\u001b[0m\u001b[37m\u001b[0m \u001b[1m0s\u001b[0m 47ms/step\n"
          ]
        }
      ]
    },
    {
      "cell_type": "code",
      "source": [
        "# Output predicted values vs actual values\n",
        "print(\"Predicted values: \", predicted_cm.flatten())\n",
        "print(\"Actual values: \", inches_to_cm(test_inches))"
      ],
      "metadata": {
        "colab": {
          "base_uri": "https://localhost:8080/"
        },
        "id": "ICNb9xSpl_HI",
        "outputId": "055fab42-2ed0-4f9f-f232-365d7a202cd6"
      },
      "execution_count": 9,
      "outputs": [
        {
          "output_type": "stream",
          "name": "stdout",
          "text": [
            "Predicted values:  [  3.3724723  13.48145    26.117674  127.20746   253.56969  ]\n",
            "Actual values:  [  2.54  12.7   25.4  127.   254.  ]\n"
          ]
        }
      ]
    }
  ]
}